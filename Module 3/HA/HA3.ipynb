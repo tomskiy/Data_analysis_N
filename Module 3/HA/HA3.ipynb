{
 "cells": [
  {
   "cell_type": "code",
   "execution_count": 226,
   "metadata": {},
   "outputs": [
    {
     "data": {
      "text/plain": [
       "2.0"
      ]
     },
     "execution_count": 226,
     "metadata": {},
     "output_type": "execute_result"
    }
   ],
   "source": [
    "int(len(\"test\"))/2"
   ]
  },
  {
   "cell_type": "code",
   "execution_count": 234,
   "metadata": {},
   "outputs": [
    {
     "name": "stdout",
     "output_type": "stream",
     "text": [
      "напишите слово loobrikant\n",
      "ri\n"
     ]
    }
   ],
   "source": [
    "\n",
    "# Задача 1. Дано слово из латинских букв. Напишите скрипт, который выводит на экран букву из середины слова (если число букв нечетное). Если букв четное число, то на экран выводятся две буквы из середины.\n",
    "\n",
    "# Пример: для 'test' должно выводится 'es', для 'testing' - 't'\n",
    "\n",
    "latin_test = str(input('напишите слово '))\n",
    "\n",
    "if len(latin_test) % 2 == 0 : \n",
    "    a = int(len(latin_test)/2)\n",
    "    print(latin_test[a-1:a+1])\n",
    "else:\n",
    "    print(latin_test[-1])\n"
   ]
  },
  {
   "cell_type": "code",
   "execution_count": 35,
   "metadata": {},
   "outputs": [
    {
     "name": "stdout",
     "output_type": "stream",
     "text": [
      "Thailand 23.85714285714285\n",
      "Germany 13.71428571428571\n",
      "Russia 3.714285714285717\n",
      "Poland 11.857142857142856\n"
     ]
    }
   ],
   "source": [
    "# Задача 3. У нас есть список, содержащий информацию о среднедневной температуре в Фаренгейтах за недельный период по странам.\n",
    "# Необходимо написать код, который рассчитает среднюю температуру за неделю в Цельсиях для каждой страны.\n",
    "\n",
    "import copy\n",
    "\n",
    "\n",
    "countries_temperature = [\n",
    " ['Thailand', [75.2, 77, 78.8, 73.4, 68, 75.2, 77]],\n",
    " ['Germany', [57.2, 55.4, 59, 59, 53.6, 55.4, 57.2]],\n",
    " ['Russia', [35.6, 37.4, 39.2, 41, 42.8, 39.2, 35.6]],\n",
    " ['Poland', [50, 50, 53.6, 57.2, 55.4, 55.4, 51.8]],\n",
    "]\n",
    "\n",
    "countries_temperature_2 = copy.copy(countries_temperature)\n",
    "\n",
    "#  принцип решения задачи - сначала разделяем лист, считаем цифры отдельно, потом соединяем обратно со странами\n",
    "\n",
    "countries = []\n",
    "temperature = []\n",
    "temperature_c = []\n",
    "\n",
    "for i in countries_temperature_2:  \n",
    "    countries.append(i[0])    \n",
    "    temperature.append(i[1])\n",
    "\n",
    "\n",
    "for celsius in temperature: \n",
    "    \n",
    "    celsius_value = ((sum(celsius))/7 - 32)* 5/9\n",
    "    temperature_c.append(celsius_value)\n",
    "\n",
    "\n",
    "countries_temperature_celsius = list(zip(countries,temperature_c))\n",
    "\n",
    "for b in countries_temperature_celsius:\n",
    "    print(b[0], b[1])\n",
    "\n",
    " \n",
    "\n",
    "\n"
   ]
  },
  {
   "cell_type": "markdown",
   "metadata": {},
   "source": []
  },
  {
   "cell_type": "code",
   "execution_count": 33,
   "metadata": {},
   "outputs": [
    {
     "name": "stdout",
     "output_type": "stream",
     "text": [
      "Идеальные пары: \n",
      "Alex и Emma\n",
      "Arthur и Kate\n",
      "John и Kira\n",
      "Peter и Liza\n",
      "Richard и Trisha\n"
     ]
    }
   ],
   "source": [
    "# challenge 2 \n",
    "\n",
    "boys = ['Peter', 'Alex', 'John','Arthur',  'Richard']\n",
    "girls = ['Kate', 'Liza', 'Kira', 'Emma', 'Trisha']\n",
    "\n",
    "boys_new = sorted(boys)\n",
    "girls_new = sorted(girls)\n",
    "\n",
    "if len(boys_new) != len(girls_new):\n",
    "    print(\"МЫ НИКОГО НЕ ЗНАКОМИМ\")\n",
    "\n",
    "else:\n",
    "    matches = list(zip(boys_new,girls_new))\n",
    "\n",
    "    print(\"Идеальные пары: \")\n",
    "\n",
    "    for i in matches:\n",
    "        print( i[0], \"и\", i[1])\n"
   ]
  },
  {
   "cell_type": "code",
   "execution_count": null,
   "metadata": {},
   "outputs": [],
   "source": []
  },
  {
   "cell_type": "code",
   "execution_count": 34,
   "metadata": {},
   "outputs": [
    {
     "name": "stdout",
     "output_type": "stream",
     "text": [
      "Cумма элементов по диагонали равна: 103\n"
     ]
    }
   ],
   "source": [
    "\n",
    "# Напишите код, который будет вычислять сумму элементов на диагонали. Т. е. 13+32+23+35.\n",
    "# Список может быть любой длины, но всегда является \"квадратным\" (количество элементов во вложенных списках равно их количеству).\n",
    "\n",
    "data = [\n",
    "    [13, 25, 23, 34],\n",
    "    [45, 32, 44, 47],\n",
    "    [12, 33, 23, 95],\n",
    "    [13, 53, 34, 35]]\n",
    "\n",
    "summa = []\n",
    "len(data)\n",
    "i = 0\n",
    "\n",
    "while i <= len(data)-1: \n",
    "    summa.append(data[0+i][0+i])\n",
    "    i += 1 \n",
    "    \n",
    "print(\"Cумма элементов по диагонали равна:\" , sum(summa))\n"
   ]
  },
  {
   "cell_type": "code",
   "execution_count": 272,
   "metadata": {},
   "outputs": [
    {
     "name": "stdout",
     "output_type": "stream",
     "text": [
      "введите дату 2018-01-01\n",
      "введите компанию google\n",
      "Значение по вашему вопросу: 25\n"
     ]
    }
   ],
   "source": [
    "# CHALLENGE 5 Дана статистика рекламных кампаний по дням. Напишите алгоритм, который по паре дата-кампания ищет значение численного столбца. \n",
    "# Т. е. для даты '2018-01-01' и 'google' нужно получить число 25. \n",
    "# Считайте, что все комбинации дата-кампания уникальны.\n",
    "\n",
    "stats = [\n",
    "    ['2018-01-01', 'google', 25],\n",
    "    ['2018-01-01', 'yandex', 65],\n",
    "    ['2018-01-01', 'market', 89],\n",
    "    ['2018-01-02', 'google', 574],\n",
    "    ['2018-01-02', 'yandex', 249],\n",
    "    ['2018-01-02', 'market', 994],\n",
    "    ['2018-01-03', 'google', 1843],\n",
    "    ['2018-01-03', 'yandex', 1327],\n",
    "    ['2018-01-03', 'market', 1764],\n",
    "]\n",
    "\n",
    "i = input('введите дату ')\n",
    "c = input('введите компанию ' )\n",
    "\n",
    "\n",
    "for data in stats : \n",
    "    \n",
    "    if data[0] == i:\n",
    "        \n",
    "        if data[1] == c:\n",
    "            \n",
    "            print(\"Значение по вашему вопросу:\" , data[2])\n",
    "        \n",
    "\n",
    "    \n",
    "\n"
   ]
  },
  {
   "cell_type": "code",
   "execution_count": 7,
   "metadata": {},
   "outputs": [
    {
     "name": "stdout",
     "output_type": "stream",
     "text": [
      "Отношение уникальных просмотров для user_1: 0.23 Отношение уникальных просмотров для user_2: 0.23 Отношение уникальных просмотров для user_3: 0.23 Отношение уникальных просмотров для user_3: 0.23\n"
     ]
    }
   ],
   "source": []
  },
  {
   "cell_type": "code",
   "execution_count": 31,
   "metadata": {},
   "outputs": [
    {
     "name": "stdout",
     "output_type": "stream",
     "text": [
      "Среднее число входов на пользователя равно: 23.25\n"
     ]
    }
   ],
   "source": [
    "# Задача 4. Дан поток логов по количеству просмотренных страниц для каждого пользователя. Список отсортирован по ID пользователя.\n",
    "# Вам необходимо написать алгоритм, который считает среднее значение просмотров на пользователя. \n",
    "# Т. е. надо посчитать отношение суммы всех просмотров к количеству уникальных пользователей.\n",
    "\n",
    "\n",
    "stream = [\n",
    "    '2018-01-01,user1,3',\n",
    "    '2018-01-07,user1,4',\n",
    "    '2018-03-29,user1,1',\n",
    "    '2018-04-04,user1,13',\n",
    "    '2018-01-05,user2,7',\n",
    "    '2018-06-14,user3,4',\n",
    "    '2018-07-02,user3,10',\n",
    "    '2018-03-21,user4,19',\n",
    "    '2018-03-22,user4,4',\n",
    "    '2018-04-22,user4,8',\n",
    "    '2018-05-03,user4,9',\n",
    "    '2018-05-11,user4,11',\n",
    "]\n",
    "\n",
    "stream_2 = copy.copy(stream)\n",
    "stream_3 = ','.join(stream_2)\n",
    "stream_4 = stream_3.split(',')\n",
    "\n",
    "i = 1 \n",
    "c = 2\n",
    "user_list = []\n",
    "user_summa= []\n",
    "\n",
    "\n",
    "while c <= len(stream_4): #задаю промежуток для записываня значений равный изначальному списку\n",
    "      if stream_4[i] not in user_list: # проверяю каждый элемент пользователя на вхождение в список\n",
    "        user_list.append(stream_4[i]) # если не входит - присоединяю\n",
    "    \n",
    "      user_summa.append(stream_4[c]) # суммирую все значения пользователей\n",
    "      i += 3\n",
    "      c += 3 \n",
    "\n",
    "user_summa = list(map(int, user_summa)) #перевожу в число    \n",
    "\n",
    "print(\"Среднее число просмотренных страниц на пользователя равно:\" ,sum(user_summa)/len(user_list))\n",
    "    \n",
    "  \n",
    "\n"
   ]
  },
  {
   "cell_type": "code",
   "execution_count": 22,
   "metadata": {},
   "outputs": [
    {
     "ename": "AttributeError",
     "evalue": "'list' object has no attribute 'split'",
     "output_type": "error",
     "traceback": [
      "\u001b[0;31m---------------------------------------------------------------------------\u001b[0m",
      "\u001b[0;31mAttributeError\u001b[0m                            Traceback (most recent call last)",
      "\u001b[0;32m<ipython-input-22-e07018466b69>\u001b[0m in \u001b[0;36m<module>\u001b[0;34m\u001b[0m\n\u001b[1;32m     11\u001b[0m ]\n\u001b[1;32m     12\u001b[0m \u001b[0;34m\u001b[0m\u001b[0m\n\u001b[0;32m---> 13\u001b[0;31m \u001b[0mqueries\u001b[0m\u001b[0;34m.\u001b[0m\u001b[0msplit\u001b[0m\u001b[0;34m(\u001b[0m\u001b[0;34m','\u001b[0m\u001b[0;34m)\u001b[0m\u001b[0;34m\u001b[0m\u001b[0;34m\u001b[0m\u001b[0m\n\u001b[0m\u001b[1;32m     14\u001b[0m \u001b[0;31m# len(queries)\u001b[0m\u001b[0;34m\u001b[0m\u001b[0;34m\u001b[0m\u001b[0;34m\u001b[0m\u001b[0m\n\u001b[1;32m     15\u001b[0m \u001b[0;34m\u001b[0m\u001b[0m\n",
      "\u001b[0;31mAttributeError\u001b[0m: 'list' object has no attribute 'split'"
     ]
    }
   ],
   "source": [
    "\n",
    "# Задание 3. Дан список поисковых запросов. Получить распределение количества слов в них.\n",
    "# Т. е. поисковых запросов из одного - слова 5%, из двух - 7%, из трех - 3% и т.д.\n",
    "queries = [\n",
    "    'смотреть сериалы онлайн',\n",
    "    'новости спорта',\n",
    "    'афиша кино',\n",
    "    'курс доллара',\n",
    "    'сериалы этим летом',\n",
    "    'курс по питону',\n",
    "    'сериалы про спорт',\n",
    "]\n",
    "\n",
    "\n",
    "len(queries)\n",
    "\n",
    "for data in queries: \n",
    "    print(len(data))\n"
   ]
  },
  {
   "cell_type": "code",
   "execution_count": null,
   "metadata": {},
   "outputs": [],
   "source": []
  }
 ],
 "metadata": {
  "kernelspec": {
   "display_name": "Python 3",
   "language": "python",
   "name": "python3"
  },
  "language_info": {
   "codemirror_mode": {
    "name": "ipython",
    "version": 3
   },
   "file_extension": ".py",
   "mimetype": "text/x-python",
   "name": "python",
   "nbconvert_exporter": "python",
   "pygments_lexer": "ipython3",
   "version": "3.7.6"
  }
 },
 "nbformat": 4,
 "nbformat_minor": 4
}
