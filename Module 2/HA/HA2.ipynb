{
 "cells": [
  {
   "cell_type": "code",
   "execution_count": 14,
   "metadata": {},
   "outputs": [],
   "source": [
    "#challenge #1\n",
    "long_phrase = 'Насколько проще было бы писать программы, если бы не заказчики'\n",
    "short_phrase = '640Кб должно хватить для любых задач. Билл Гейтс (по легенде)'"
   ]
  },
  {
   "cell_type": "code",
   "execution_count": 6,
   "metadata": {},
   "outputs": [
    {
     "data": {
      "text/plain": [
       "True"
      ]
     },
     "execution_count": 6,
     "metadata": {},
     "output_type": "execute_result"
    }
   ],
   "source": [
    "store_1 = len(long_phrase)\n",
    "store_2 = len(short_phrase)\n",
    "\n",
    "store_1 > store_2"
   ]
  },
  {
   "cell_type": "code",
   "execution_count": 10,
   "metadata": {},
   "outputs": [
    {
     "name": "stdout",
     "output_type": "stream",
     "text": [
      "введите количество байт 123131321312331\n",
      "Объем файла равен 117427178.68 Mb\n"
     ]
    }
   ],
   "source": [
    "#challenge #2\n",
    "a = 1048576\n",
    "user_input = float(input(\"введите количество байт \"))\n",
    "b = user_input / a\n",
    "print ('Объем файла равен', round(b, 2) , 'Mb')\n",
    "\n",
    "\n",
    "\n"
   ]
  },
  {
   "cell_type": "code",
   "execution_count": 39,
   "metadata": {},
   "outputs": [
    {
     "data": {
      "text/plain": [
       "235"
      ]
     },
     "execution_count": 39,
     "metadata": {},
     "output_type": "execute_result"
    }
   ],
   "source": [
    "212+23"
   ]
  },
  {
   "cell_type": "code",
   "execution_count": null,
   "metadata": {},
   "outputs": [],
   "source": [
    "#challenge 3 \n",
    "\n",
    "\n",
    "\n",
    "input_1 = {'январь': 0\n",
    "            ,'февраль': 31\n",
    "             ,'март': 59  ,'апрель': 90, 'май': 120  , 'июнь': 151 , 'июль': 181 , 'август': 212 , 'сентябрь': 243\n",
    "           , 'октябрь': 273 \n",
    "        , 'ноябрь': 304  , 'декабрь': 334  }\n",
    "\n",
    "# a= переменная для месяц, б - переменная для дня\n",
    "a= str(input(\"введите месяц \"))\n",
    "b = int(input(\"введите день \"))\n",
    "\n",
    "\n",
    "if 21 <= input_1[a] + b <=  49 : \n",
    "     print(\"водолей\")\n",
    "        \n",
    "elif 50 <= input_1[a] + b <= 79 : \n",
    "        print (\"рыбы\")\n",
    "\n",
    "elif 80 <= input_1[a] + b <= 110 : \n",
    "        print (\"овен\")\n",
    "\n",
    "elif 111 <= input_1[a] + b <= 141 : \n",
    "        print (\"телец\")\n",
    "\n",
    "elif 142 <= input_1[a] + b <= 172 : \n",
    "        print (\"близнецы\")\n",
    "\n",
    "elif 143 <= input_1[a] + b <= 203 : \n",
    "        print (\"рак\")\n",
    "\n",
    "elif 204 <= input_1[a] + b <= 235 : \n",
    "        print (\"лев\")\n",
    "    \n",
    "elif 236 <= input_1[a] + b <= 266 : \n",
    "        print (\"дева\")    \n",
    "    \n",
    "elif 267 <= input_1[a] + b <= 296 : \n",
    "        print (\"весы\")           \n",
    "        \n",
    "elif 297 <= input_1[a] + b <= 326 : \n",
    "        print (\"сокрпион\")    \n",
    "        \n",
    "elif 327 <= input_1[a] + b <= 356 : \n",
    "        print (\"стрелец\")      \n",
    "else: \n",
    "    print (\"козерог\") \n"
   ]
  },
  {
   "cell_type": "code",
   "execution_count": 61,
   "metadata": {},
   "outputs": [
    {
     "name": "stdout",
     "output_type": "stream",
     "text": [
      "введите вашу заработную плату в месяц120000\n",
      "введите,сколько % вы тратите на ипотеку ежемесячно20\n",
      "введите,сколько % вы тратите на жизнь ежемесячно50\n",
      "введите,сколько раз в год вы получаете бонус1\n",
      "На ипотеку было потрачено: 288000.0 рублей, Было накоплено: 492000.0 рублей\n"
     ]
    }
   ],
   "source": [
    "#challenge 4 \n",
    "\n",
    "# Нужно разработать приложение для финансового планирования. Приложение учитывает сколько уходит на ипотеку, \"на жизнь\" и сколько нужно отложить на пенсию. Пользователь вводит:\n",
    "\n",
    "# заработанную плату в месяц.\n",
    "# сколько процентов от ЗП уходит на ипотеку.\n",
    "# сколько процентов от ЗП уходит \"на жизнь\".\n",
    "# сколько раз приходит премия в год.\n",
    "# Остальная часть заработанной платы откладывается на пенсию.\n",
    "\n",
    "# Также пользователю приходит премия в размере зарплаты, от которой половина уходит на отпуск, а вторая половина откладывается.\n",
    "\n",
    "# Программа должна учитывать сколько премий было в год.\n",
    "\n",
    "# Нужно вывести сколько денег тратит пользователь на ипотеку и сколько он накопит за год.\n",
    "\n",
    "# Пример:\n",
    "\n",
    "# Введите заработанную плату в месяц: 100000\n",
    "\n",
    "# Введите сколько процентов уходит на ипотеку: 30\n",
    "\n",
    "# Введите сколько процентов уходит на жизнь: 50\n",
    "\n",
    "# Введите количество премий за год: 2\n",
    "\n",
    "# Вывод: На ипотеку было потрачено: 360000 рублей Было накоплено: 340000 рублей\n",
    "\n",
    "\n",
    "income = int(input(\"введите вашу заработную плату в месяц \"))* 12 \n",
    "mortage = float(input(\"введите,сколько % вы тратите на ипотеку ежемесячно \"))/100\n",
    "living = float(input(\"введите,сколько % вы тратите на жизнь ежемесячно \"))/100\n",
    "bonus_t = int(input(\"введите,сколько раз в год вы получаете бонус \"))\n",
    "\n",
    "\n",
    "# часть с  распределением бонусов \n",
    "bonus = (income/12) * bonus_t\n",
    "bonus_savings = bonus * 0.5\n",
    "bonus_vacation = bonus - bonus_savings\n",
    "\n",
    "savings = income - (income*mortage) - (living * income) + bonus_savings\n",
    "\n",
    "# в финальной версси отложения на отпуск не учитываются, так как это не требуется условием задачи\n",
    "print ( 'На ипотеку было потрачено:' , mortage * income , \"рублей, Было накоплено:\"  , savings  , \"рублей\")\n"
   ]
  },
  {
   "cell_type": "code",
   "execution_count": 51,
   "metadata": {},
   "outputs": [
    {
     "data": {
      "text/plain": [
       "0.3"
      ]
     },
     "execution_count": 51,
     "metadata": {},
     "output_type": "execute_result"
    }
   ],
   "source": [
    "30/100"
   ]
  },
  {
   "cell_type": "code",
   "execution_count": null,
   "metadata": {},
   "outputs": [],
   "source": []
  }
 ],
 "metadata": {
  "kernelspec": {
   "display_name": "Python 3",
   "language": "python",
   "name": "python3"
  },
  "language_info": {
   "codemirror_mode": {
    "name": "ipython",
    "version": 3
   },
   "file_extension": ".py",
   "mimetype": "text/x-python",
   "name": "python",
   "nbconvert_exporter": "python",
   "pygments_lexer": "ipython3",
   "version": "3.7.6"
  }
 },
 "nbformat": 4,
 "nbformat_minor": 4
}
