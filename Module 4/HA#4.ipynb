{
 "cells": [
  {
   "cell_type": "code",
   "execution_count": 19,
   "metadata": {},
   "outputs": [
    {
     "name": "stdout",
     "output_type": "stream",
     "text": [
      "['Москва', 'Россия']\n",
      "['Владимир', 'Россия']\n",
      "['Тула', 'Россия']\n",
      "['Тула', 'Россия']\n",
      "['Курск', 'Россия']\n",
      "['Архангельск', 'Россия']\n"
     ]
    }
   ],
   "source": [
    "# Задание 1. Дан список с визитами по городам и странам. \n",
    "# Напишите код, который возвращает отфильтрованный список geo_logs, содержащий только визиты из России.\n",
    "\n",
    "geo_logs = [\n",
    "    {'visit1': ['Москва', 'Россия']},\n",
    "    {'visit2': ['Дели', 'Индия']},\n",
    "    {'visit3': ['Владимир', 'Россия']},\n",
    "    {'visit4': ['Лиссабон', 'Португалия']},\n",
    "    {'visit5': ['Париж', 'Франция']},\n",
    "    {'visit6': ['Лиссабон', 'Португалия']},\n",
    "    {'visit7': ['Тула', 'Россия']},\n",
    "    {'visit8': ['Тула', 'Россия']},\n",
    "    {'visit9': ['Курск', 'Россия']},\n",
    "    {'visit10': ['Архангельск', 'Россия']}\n",
    "]\n",
    "\n",
    "for keys in geo_logs: \n",
    "    for cities in keys.values():\n",
    "        if cities[1] == \"Россия\":\n",
    "            print(cities)"
   ]
  },
  {
   "cell_type": "code",
   "execution_count": 22,
   "metadata": {},
   "outputs": [
    {
     "name": "stdout",
     "output_type": "stream",
     "text": [
      "[98, 35, 15, 213, 54, 119]\n"
     ]
    }
   ],
   "source": [
    "# Задание 2. Выведите на экран все уникальные гео-ID из значений словаря ids. Т. е. список вида [213, 15, 54, 119, 98, 35]\n",
    "\n",
    "ids = {'user1': [213, 213, 213, 15, 213], \n",
    "       'user2': [54, 54, 119, 119, 119], \n",
    "       'user3': [213, 98, 98, 35]}\n",
    "\n",
    "values = []\n",
    "values_unique = []\n",
    "\n",
    "\n",
    "for data in ids.values():  #вырезаем значения и работаем тоолько с ними \n",
    "    values += data\n",
    "\n",
    "\n",
    "values_unique = list(set(values))\n",
    "print(values_unique)\n",
    "\n"
   ]
  },
  {
   "cell_type": "code",
   "execution_count": 42,
   "metadata": {},
   "outputs": [
    {
     "name": "stdout",
     "output_type": "stream",
     "text": [
      "Frequency of message with lenth 2 is  0.42857142857142855\n",
      "Frequency of message with lenth 3 is  0.5714285714285714\n"
     ]
    }
   ],
   "source": [
    "\n",
    "# Задание 3. Дан список поисковых запросов. Получить распределение количества слов в них.\n",
    "# Т. е. поисковых запросов из одного - слова 5%, из двух - 7%, из трех - 3% и т.д.\n",
    "queries = [\n",
    "    'смотреть сериалы онлайн',\n",
    "    'новости спорта',\n",
    "    'афиша кино',\n",
    "    'курс доллара',\n",
    "    'сериалы этим летом',\n",
    "    'курс по питону',\n",
    "    'сериалы про спорт',\n",
    "]\n",
    "\n",
    "queries_count =[] \n",
    "\n",
    "\n",
    "for item in queries:\n",
    "    queries_count.append(len(item.split()))\n",
    "    \n",
    "\n",
    "queries_count_len = len(queries_count)    \n",
    "\n",
    "for e in set(queries_count):\n",
    "    print(f\"Frequency of message with lenth {e} is \", queries_count.count(e)/queries_count_len)\n"
   ]
  },
  {
   "cell_type": "code",
   "execution_count": 88,
   "metadata": {},
   "outputs": [
    {
     "name": "stdout",
     "output_type": "stream",
     "text": [
      "Канал с максимальным объемом :  yandex\n"
     ]
    }
   ],
   "source": [
    "\n",
    "# Задание 4. Дана статистика рекламных каналов по объемам продаж. \n",
    "# Напишите скрипт, который возвращает название канала с максимальным объемом. \n",
    "# Т. е. в данном примере скрипт должен возвращать 'yandex'.\n",
    "\n",
    "stats = {'facebook': 55, 'yandex': 120, 'vk': 115, 'google': 99, 'email': 42, 'ok': 98}\n",
    "\n",
    "stats_values = []\n",
    "stats_keys = []\n",
    "\n",
    "for data in stats.keys():\n",
    "    stats_keys.append(data)\n",
    "for data in stats.values():\n",
    "    stats_values.append(data)\n",
    "\n",
    "print(\"Канал с максимальным объемом : \" ,stats_keys[stats_values.index(max(stats_values))])"
   ]
  },
  {
   "cell_type": "code",
   "execution_count": 223,
   "metadata": {},
   "outputs": [
    {
     "name": "stdout",
     "output_type": "stream",
     "text": [
      "{'2018-01-01': {'yandex': {'cpc': 100}}}\n"
     ]
    }
   ],
   "source": [
    "# Напишите код для преобразования произвольного списка вида ['2018-01-01', 'yandex', 'cpc', 100] (он может быть любой длины)\n",
    "# в словарь {'2018-01-01': {'yandex': {'cpc': 100}}}\n",
    "\n",
    "\n",
    "\n",
    "my_list = ['2018-01-01', 'yandex', 'cpc', 100]\n",
    "\n",
    "\n",
    "var = my_list[-1]\n",
    "for item in my_list[-2::-1]:   \n",
    "    var = {item:var}  \n",
    "print(var)\n",
    "    \n",
    "\n",
    "    \n",
    "  \n"
   ]
  },
  {
   "cell_type": "code",
   "execution_count": null,
   "metadata": {},
   "outputs": [],
   "source": []
  }
 ],
 "metadata": {
  "kernelspec": {
   "display_name": "Python 3",
   "language": "python",
   "name": "python3"
  },
  "language_info": {
   "codemirror_mode": {
    "name": "ipython",
    "version": 3
   },
   "file_extension": ".py",
   "mimetype": "text/x-python",
   "name": "python",
   "nbconvert_exporter": "python",
   "pygments_lexer": "ipython3",
   "version": "3.7.6"
  }
 },
 "nbformat": 4,
 "nbformat_minor": 4
}
